{
 "cells": [
  {
   "cell_type": "code",
   "execution_count": 1,
   "metadata": {},
   "outputs": [
    {
     "data": {
      "text/plain": [
       "'1abc2\\npqr3stu8vwx\\na1b2c3d4e5f\\ntreb7uchet'"
      ]
     },
     "execution_count": 1,
     "metadata": {},
     "output_type": "execute_result"
    }
   ],
   "source": [
    "example = \"\"\"1abc2\n",
    "pqr3stu8vwx\n",
    "a1b2c3d4e5f\n",
    "treb7uchet\"\"\"\n",
    "example"
   ]
  },
  {
   "cell_type": "code",
   "execution_count": 11,
   "metadata": {},
   "outputs": [
    {
     "name": "stdout",
     "output_type": "stream",
     "text": [
      "142\n"
     ]
    }
   ],
   "source": [
    "def solve_part_1(text):\n",
    "    callibration_values = []\n",
    "    for line in text.splitlines():\n",
    "        numbers = [] \n",
    "        for c in line:\n",
    "            if c.isdecimal():\n",
    "                numbers.append(c)\n",
    "        # Strings of first and last number\n",
    "        first = numbers[0]\n",
    "        last = numbers[-1]\n",
    "        cal_str = first + last\n",
    "        callibration_values.append(int(cal_str))\n",
    "    cal_sum = sum(callibration_values)\n",
    "    print(cal_sum)\n",
    "solve_part_1(example)"
   ]
  },
  {
   "cell_type": "code",
   "execution_count": 31,
   "metadata": {},
   "outputs": [
    {
     "name": "stdout",
     "output_type": "stream",
     "text": [
      "0\n"
     ]
    }
   ],
   "source": [
    "digit_map = {\n",
    "    \"one\": \"1\",\n",
    "    \"two\": \"2\",\n",
    "    \"three\": \"3\",\n",
    "    \"four\": \"4\",\n",
    "    \"five\": \"5\",\n",
    "    \"six\": \"6\",\n",
    "    \"seven\": \"7\",\n",
    "    \"eight\": \"8\",\n",
    "    \"nine\": \"9\",\n",
    "}\n",
    "\n",
    "# def convert_text_numbers(line):\n",
    "#     for d in digit_map:\n",
    "#         line = line.replace(d,digit_map[d])\n",
    "#     return line\n",
    "\n",
    "def solve_part_2(text):\n",
    "    callibration_values = []\n",
    "    for line in text.splitlines():\n",
    "        numbers = [] \n",
    "        # line = convert_text_numbers(line)\n",
    "        i = 0\n",
    "        for c in line:\n",
    "            if c.isdecimal():\n",
    "                numbers.append(c)\n",
    "            subline = line[i:]\n",
    "            for digit in digit_map:\n",
    "                index = subline.find(digit) \n",
    "                if index != -1 and index == 0:\n",
    "                    numbers.append(digit_map[digit])\n",
    "                    continue\n",
    "            i += 1\n",
    "        # Strings of first and last number\n",
    "        first = numbers[0]\n",
    "        last = numbers[-1]\n",
    "        cal_str = first + last\n",
    "        callibration_values.append(int(cal_str))\n",
    "    cal_sum = sum(callibration_values)\n",
    "    print(cal_sum)\n",
    "solve_part_2(example)"
   ]
  },
  {
   "cell_type": "code",
   "execution_count": 33,
   "metadata": {},
   "outputs": [
    {
     "name": "stdout",
     "output_type": "stream",
     "text": [
      "55712\n",
      "55413\n"
     ]
    }
   ],
   "source": [
    "with open(\"day-1-input.txt\") as f:\n",
    "    text = f.read()\n",
    "    solve_part_1(text)\n",
    "    solve_part_2(text)"
   ]
  },
  {
   "cell_type": "code",
   "execution_count": null,
   "metadata": {},
   "outputs": [],
   "source": []
  }
 ],
 "metadata": {
  "kernelspec": {
   "display_name": "common",
   "language": "python",
   "name": "python3"
  },
  "language_info": {
   "codemirror_mode": {
    "name": "ipython",
    "version": 3
   },
   "file_extension": ".py",
   "mimetype": "text/x-python",
   "name": "python",
   "nbconvert_exporter": "python",
   "pygments_lexer": "ipython3",
   "version": "3.10.6"
  }
 },
 "nbformat": 4,
 "nbformat_minor": 2
}
